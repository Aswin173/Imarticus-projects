{
 "cells": [
  {
   "cell_type": "code",
   "execution_count": 1,
   "id": "12351560",
   "metadata": {},
   "outputs": [],
   "source": [
    "import pandas as pd\n",
    "import numpy as np\n",
    "from scipy import stats\n",
    "import matplotlib.pyplot as plt\n",
    "from keras.models import Sequential\n",
    "from keras.layers import Activation, Dense\n",
    "from sklearn.model_selection import train_test_split\n",
    "from keras.wrappers.scikit_learn import KerasRegressor\n",
    "from sklearn.model_selection import cross_val_score\n",
    "from sklearn.model_selection import KFold"
   ]
  },
  {
   "cell_type": "code",
   "execution_count": 2,
   "id": "4e6b3b77",
   "metadata": {},
   "outputs": [],
   "source": [
    "df = pd.read_csv(\"https://raw.githubusercontent.com/akki8087/Big-Mart-Sales/master/Train.csv\")"
   ]
  },
  {
   "cell_type": "code",
   "execution_count": 3,
   "id": "2ed27500",
   "metadata": {},
   "outputs": [],
   "source": [
    "df.Item_Weight.fillna(df.Item_Weight.mean(),inplace=True)"
   ]
  },
  {
   "cell_type": "code",
   "execution_count": 4,
   "id": "b96ff7b1",
   "metadata": {},
   "outputs": [],
   "source": [
    "df.Outlet_Size = df.Outlet_Size.fillna('Others')"
   ]
  },
  {
   "cell_type": "code",
   "execution_count": 5,
   "id": "bf791fcc",
   "metadata": {},
   "outputs": [],
   "source": [
    "df.Item_Fat_Content = df.Item_Fat_Content.replace(['LF','reg','low fat'],['Low Fat','Regular','Low Fat'])"
   ]
  },
  {
   "cell_type": "code",
   "execution_count": 6,
   "id": "d3f886f3",
   "metadata": {},
   "outputs": [],
   "source": [
    "df.Item_Visibility = df.Item_Visibility.replace(0,df.Item_Visibility.median())"
   ]
  },
  {
   "cell_type": "code",
   "execution_count": 7,
   "id": "b4be3fb9",
   "metadata": {},
   "outputs": [],
   "source": [
    "df[\"Outlet_Establishment_Year\"]= df[\"Outlet_Establishment_Year\"].astype(str)"
   ]
  },
  {
   "cell_type": "code",
   "execution_count": 8,
   "id": "86fca76b",
   "metadata": {},
   "outputs": [
    {
     "data": {
      "text/plain": [
       "0       Supermarket Type1\n",
       "1       Supermarket Type2\n",
       "2       Supermarket Type1\n",
       "3           Grocery Store\n",
       "4       Supermarket Type1\n",
       "              ...        \n",
       "8518    Supermarket Type1\n",
       "8519    Supermarket Type1\n",
       "8520    Supermarket Type1\n",
       "8521    Supermarket Type2\n",
       "8522    Supermarket Type1\n",
       "Name: Outlet_Type, Length: 8523, dtype: object"
      ]
     },
     "execution_count": 8,
     "metadata": {},
     "output_type": "execute_result"
    }
   ],
   "source": [
    "df['Outlet_Type']"
   ]
  },
  {
   "cell_type": "code",
   "execution_count": 9,
   "id": "b2e267ea",
   "metadata": {},
   "outputs": [],
   "source": [
    "from sklearn import preprocessing\n",
    "le = preprocessing.LabelEncoder()\n",
    "df['Item_Fat_Content'] = le.fit_transform(df['Item_Fat_Content'])\n",
    "df['Item_Type'] = le.fit_transform(df['Item_Type'])\n",
    "df['Outlet_Establishment_Year'] = le.fit_transform(df['Outlet_Establishment_Year'])                                           \n",
    "df['Outlet_Size'] = le.fit_transform(df['Outlet_Size'])\n",
    "df['Outlet_Location_Type'] = le.fit_transform(df['Outlet_Location_Type'])\n",
    "df['Outlet_Type'] = le.fit_transform(df['Outlet_Type'])                                         "
   ]
  },
  {
   "cell_type": "code",
   "execution_count": 10,
   "id": "c028c29a",
   "metadata": {},
   "outputs": [],
   "source": [
    "x = df.drop(['Item_Outlet_Sales','Item_Identifier','Outlet_Identifier'],axis=1)\n",
    "y = df['Item_Outlet_Sales']\n",
    "train_x,test_x,train_y,test_y = train_test_split(x,y,test_size=0.2,random_state=108,shuffle=False)"
   ]
  },
  {
   "cell_type": "code",
   "execution_count": 11,
   "id": "c732456e",
   "metadata": {},
   "outputs": [],
   "source": [
    "model = Sequential()\n",
    "model.add(Dense(15, input_dim=9, activation='relu'))\n",
    "model.add(Dense(6, activation='relu'))\n",
    "model.add(Dense(3, activation='relu'))\n",
    "model.add(Dense(1, activation='linear'))\n",
    "model.compile(loss='mse', optimizer='adam', metrics=['mse'])"
   ]
  },
  {
   "cell_type": "code",
   "execution_count": 12,
   "id": "3a8110f2",
   "metadata": {
    "scrolled": false
   },
   "outputs": [
    {
     "name": "stdout",
     "output_type": "stream",
     "text": [
      "Epoch 1/50\n",
      "214/214 [==============================] - 2s 4ms/step - loss: 7215331.0000 - mse: 7215331.0000\n",
      "Epoch 2/50\n",
      "214/214 [==============================] - 1s 4ms/step - loss: 3292732.2500 - mse: 3292732.2500\n",
      "Epoch 3/50\n",
      "214/214 [==============================] - 1s 4ms/step - loss: 1958822.1250 - mse: 1958822.1250\n",
      "Epoch 4/50\n",
      "214/214 [==============================] - 1s 2ms/step - loss: 1951543.3750 - mse: 1951543.3750\n",
      "Epoch 5/50\n",
      "214/214 [==============================] - 0s 2ms/step - loss: 1945322.0000 - mse: 1945322.0000\n",
      "Epoch 6/50\n",
      "214/214 [==============================] - 0s 2ms/step - loss: 1938516.2500 - mse: 1938516.2500\n",
      "Epoch 7/50\n",
      "214/214 [==============================] - 0s 2ms/step - loss: 1932301.2500 - mse: 1932301.2500\n",
      "Epoch 8/50\n",
      "214/214 [==============================] - 0s 2ms/step - loss: 1924727.7500 - mse: 1924727.7500\n",
      "Epoch 9/50\n",
      "214/214 [==============================] - 0s 2ms/step - loss: 1920579.7500 - mse: 1920579.7500\n",
      "Epoch 10/50\n",
      "214/214 [==============================] - 0s 2ms/step - loss: 1912901.5000 - mse: 1912901.5000\n",
      "Epoch 11/50\n",
      "214/214 [==============================] - 0s 2ms/step - loss: 1909187.6250 - mse: 1909187.6250\n",
      "Epoch 12/50\n",
      "214/214 [==============================] - 0s 2ms/step - loss: 1902443.0000 - mse: 1902443.0000\n",
      "Epoch 13/50\n",
      "214/214 [==============================] - 0s 2ms/step - loss: 1894809.7500 - mse: 1894809.7500\n",
      "Epoch 14/50\n",
      "214/214 [==============================] - 0s 2ms/step - loss: 1888596.5000 - mse: 1888596.5000\n",
      "Epoch 15/50\n",
      "214/214 [==============================] - 0s 2ms/step - loss: 1884126.3750 - mse: 1884126.3750\n",
      "Epoch 16/50\n",
      "214/214 [==============================] - 0s 2ms/step - loss: 1876854.1250 - mse: 1876854.1250\n",
      "Epoch 17/50\n",
      "214/214 [==============================] - 0s 2ms/step - loss: 1870164.7500 - mse: 1870164.7500\n",
      "Epoch 18/50\n",
      "214/214 [==============================] - 0s 2ms/step - loss: 1866086.0000 - mse: 1866086.0000\n",
      "Epoch 19/50\n",
      "214/214 [==============================] - 0s 2ms/step - loss: 1858779.0000 - mse: 1858779.0000\n",
      "Epoch 20/50\n",
      "214/214 [==============================] - 0s 2ms/step - loss: 1853650.8750 - mse: 1853650.8750\n",
      "Epoch 21/50\n",
      "214/214 [==============================] - 0s 2ms/step - loss: 1846267.7500 - mse: 1846267.7500\n",
      "Epoch 22/50\n",
      "214/214 [==============================] - 0s 2ms/step - loss: 1838575.6250 - mse: 1838575.6250\n",
      "Epoch 23/50\n",
      "214/214 [==============================] - 0s 2ms/step - loss: 1834726.1250 - mse: 1834726.1250\n",
      "Epoch 24/50\n",
      "214/214 [==============================] - 0s 2ms/step - loss: 1827522.7500 - mse: 1827522.7500\n",
      "Epoch 25/50\n",
      "214/214 [==============================] - 0s 2ms/step - loss: 1820770.6250 - mse: 1820770.6250\n",
      "Epoch 26/50\n",
      "214/214 [==============================] - 1s 2ms/step - loss: 1815487.7500 - mse: 1815487.7500\n",
      "Epoch 27/50\n",
      "214/214 [==============================] - 1s 3ms/step - loss: 1806780.7500 - mse: 1806780.7500\n",
      "Epoch 28/50\n",
      "214/214 [==============================] - 0s 2ms/step - loss: 1799863.2500 - mse: 1799863.2500\n",
      "Epoch 29/50\n",
      "214/214 [==============================] - 1s 3ms/step - loss: 1793633.8750 - mse: 1793633.8750\n",
      "Epoch 30/50\n",
      "214/214 [==============================] - 0s 2ms/step - loss: 1785392.3750 - mse: 1785392.3750\n",
      "Epoch 31/50\n",
      "214/214 [==============================] - 0s 2ms/step - loss: 1778187.8750 - mse: 1778187.8750\n",
      "Epoch 32/50\n",
      "214/214 [==============================] - 0s 2ms/step - loss: 1770121.1250 - mse: 1770121.1250\n",
      "Epoch 33/50\n",
      "214/214 [==============================] - 0s 2ms/step - loss: 1763478.2500 - mse: 1763478.2500\n",
      "Epoch 34/50\n",
      "214/214 [==============================] - 0s 2ms/step - loss: 1754303.3750 - mse: 1754303.3750\n",
      "Epoch 35/50\n",
      "214/214 [==============================] - 0s 2ms/step - loss: 1748197.3750 - mse: 1748197.3750\n",
      "Epoch 36/50\n",
      "214/214 [==============================] - 0s 2ms/step - loss: 1737366.7500 - mse: 1737366.7500\n",
      "Epoch 37/50\n",
      "214/214 [==============================] - 0s 2ms/step - loss: 1728935.5000 - mse: 1728935.5000\n",
      "Epoch 38/50\n",
      "214/214 [==============================] - 0s 2ms/step - loss: 1717868.0000 - mse: 1717868.0000\n",
      "Epoch 39/50\n",
      "214/214 [==============================] - 0s 2ms/step - loss: 1708842.8750 - mse: 1708842.8750\n",
      "Epoch 40/50\n",
      "214/214 [==============================] - 0s 2ms/step - loss: 1699686.2500 - mse: 1699686.2500\n",
      "Epoch 41/50\n",
      "214/214 [==============================] - 0s 2ms/step - loss: 1689138.3750 - mse: 1689138.3750\n",
      "Epoch 42/50\n",
      "214/214 [==============================] - 0s 2ms/step - loss: 1677831.0000 - mse: 1677831.0000\n",
      "Epoch 43/50\n",
      "214/214 [==============================] - 1s 3ms/step - loss: 1665234.6250 - mse: 1665234.6250\n",
      "Epoch 44/50\n",
      "214/214 [==============================] - 1s 3ms/step - loss: 1657109.8750 - mse: 1657109.8750\n",
      "Epoch 45/50\n",
      "214/214 [==============================] - 0s 2ms/step - loss: 1643206.0000 - mse: 1643206.0000\n",
      "Epoch 46/50\n",
      "214/214 [==============================] - 1s 2ms/step - loss: 1634064.1250 - mse: 1634064.1250\n",
      "Epoch 47/50\n",
      "214/214 [==============================] - 1s 3ms/step - loss: 1621234.3750 - mse: 1621234.3750\n",
      "Epoch 48/50\n",
      "214/214 [==============================] - 0s 2ms/step - loss: 1607980.2500 - mse: 1607980.2500\n",
      "Epoch 49/50\n",
      "214/214 [==============================] - 1s 2ms/step - loss: 1601968.1250 - mse: 1601968.1250\n",
      "Epoch 50/50\n",
      "214/214 [==============================] - 1s 2ms/step - loss: 1590351.1250 - mse: 1590351.1250\n"
     ]
    }
   ],
   "source": [
    "history = model.fit(train_x, train_y, epochs=50)\n"
   ]
  },
  {
   "cell_type": "code",
   "execution_count": null,
   "id": "51ed80ba",
   "metadata": {},
   "outputs": [],
   "source": []
  }
 ],
 "metadata": {
  "kernelspec": {
   "display_name": "Python 3 (ipykernel)",
   "language": "python",
   "name": "python3"
  },
  "language_info": {
   "codemirror_mode": {
    "name": "ipython",
    "version": 3
   },
   "file_extension": ".py",
   "mimetype": "text/x-python",
   "name": "python",
   "nbconvert_exporter": "python",
   "pygments_lexer": "ipython3",
   "version": "3.9.7"
  }
 },
 "nbformat": 4,
 "nbformat_minor": 5
}
