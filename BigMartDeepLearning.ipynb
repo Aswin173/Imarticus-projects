{
 "cells": [
  {
   "cell_type": "code",
   "execution_count": 1,
   "id": "12351560",
   "metadata": {},
   "outputs": [],
   "source": [
    "import pandas as pd\n",
    "import numpy as np\n",
    "from scipy import stats\n",
    "import matplotlib.pyplot as plt\n",
    "from keras.models import Sequential\n",
    "from keras.layers import Activation, Dense\n",
    "from sklearn.model_selection import train_test_split\n",
    "from keras.wrappers.scikit_learn import KerasRegressor\n",
    "from sklearn.model_selection import cross_val_score\n",
    "from sklearn.model_selection import KFold"
   ]
  },
  {
   "cell_type": "code",
   "execution_count": 2,
   "id": "4e6b3b77",
   "metadata": {},
   "outputs": [],
   "source": [
    "df = pd.read_csv(\"https://raw.githubusercontent.com/akki8087/Big-Mart-Sales/master/Train.csv\")"
   ]
  },
  {
   "cell_type": "code",
   "execution_count": 3,
   "id": "2ed27500",
   "metadata": {},
   "outputs": [],
   "source": [
    "df.Item_Weight.fillna(df.Item_Weight.mean(),inplace=True)"
   ]
  },
  {
   "cell_type": "code",
   "execution_count": 4,
   "id": "b96ff7b1",
   "metadata": {},
   "outputs": [],
   "source": [
    "df.Outlet_Size = df.Outlet_Size.fillna('Others')"
   ]
  },
  {
   "cell_type": "code",
   "execution_count": 5,
   "id": "bf791fcc",
   "metadata": {},
   "outputs": [],
   "source": [
    "df.Item_Fat_Content = df.Item_Fat_Content.replace(['LF','reg','low fat'],['Low Fat','Regular','Low Fat'])"
   ]
  },
  {
   "cell_type": "code",
   "execution_count": 6,
   "id": "d3f886f3",
   "metadata": {},
   "outputs": [],
   "source": [
    "df.Item_Visibility = df.Item_Visibility.replace(0,df.Item_Visibility.median())"
   ]
  },
  {
   "cell_type": "code",
   "execution_count": 7,
   "id": "b4be3fb9",
   "metadata": {},
   "outputs": [],
   "source": [
    "df[\"Outlet_Establishment_Year\"]= df[\"Outlet_Establishment_Year\"].astype(str)"
   ]
  },
  {
   "cell_type": "code",
   "execution_count": 8,
   "id": "86fca76b",
   "metadata": {},
   "outputs": [
    {
     "data": {
      "text/plain": [
       "0       Supermarket Type1\n",
       "1       Supermarket Type2\n",
       "2       Supermarket Type1\n",
       "3           Grocery Store\n",
       "4       Supermarket Type1\n",
       "              ...        \n",
       "8518    Supermarket Type1\n",
       "8519    Supermarket Type1\n",
       "8520    Supermarket Type1\n",
       "8521    Supermarket Type2\n",
       "8522    Supermarket Type1\n",
       "Name: Outlet_Type, Length: 8523, dtype: object"
      ]
     },
     "execution_count": 8,
     "metadata": {},
     "output_type": "execute_result"
    }
   ],
   "source": [
    "df['Outlet_Type']"
   ]
  },
  {
   "cell_type": "code",
   "execution_count": 9,
   "id": "b2e267ea",
   "metadata": {},
   "outputs": [],
   "source": [
    "from sklearn import preprocessing\n",
    "le = preprocessing.LabelEncoder()\n",
    "df['Item_Fat_Content'] = le.fit_transform(df['Item_Fat_Content'])\n",
    "df['Item_Type'] = le.fit_transform(df['Item_Type'])\n",
    "df['Outlet_Establishment_Year'] = le.fit_transform(df['Outlet_Establishment_Year'])                                           \n",
    "df['Outlet_Size'] = le.fit_transform(df['Outlet_Size'])\n",
    "df['Outlet_Location_Type'] = le.fit_transform(df['Outlet_Location_Type'])\n",
    "df['Outlet_Type'] = le.fit_transform(df['Outlet_Type'])                                         "
   ]
  },
  {
   "cell_type": "code",
   "execution_count": 10,
   "id": "c028c29a",
   "metadata": {},
   "outputs": [],
   "source": [
    "x = df.drop(['Item_Outlet_Sales','Item_Identifier','Outlet_Identifier'],axis=1)\n",
    "y = df['Item_Outlet_Sales']\n",
    "train_x,test_x,train_y,test_y = train_test_split(x,y,test_size=0.2,random_state=108,shuffle=False)"
   ]
  },
  {
   "cell_type": "code",
   "execution_count": null,
   "id": "06d9318d",
   "metadata": {},
   "outputs": [],
   "source": []
  },
  {
   "cell_type": "code",
   "execution_count": 12,
   "id": "5d97a288",
   "metadata": {},
   "outputs": [],
   "source": [
    "#model.compile(optimizer='adam', loss='mean_squared_error', metrics=['mean_squared_error'])"
   ]
  },
  {
   "cell_type": "code",
   "execution_count": 13,
   "id": "fd7a3511",
   "metadata": {},
   "outputs": [],
   "source": [
    "#model.fit(train_x,train_y,epochs=50)"
   ]
  },
  {
   "cell_type": "code",
   "execution_count": 14,
   "id": "41d5937f",
   "metadata": {},
   "outputs": [],
   "source": [
    "#estimator = KerasRegressor(build_fn=baseline_model, epochs=100, batch_size=5, verbose=0)"
   ]
  },
  {
   "cell_type": "code",
   "execution_count": 23,
   "id": "c732456e",
   "metadata": {},
   "outputs": [],
   "source": [
    "'''model = Sequential()\n",
    "model.add(Dense(15, input_dim=9, activation='relu'))\n",
    "model.add(Dense(1, activation='linear'))'''\n",
    "model = Sequential()\n",
    "model.add(Dense(15, input_dim=9, activation='relu'))\n",
    "model.add(Dense(6, activation='relu'))\n",
    "model.add(Dense(3, activation='relu'))\n",
    "model.add(Dense(1, activation='linear'))\n",
    "model.compile(loss='mse', optimizer='adam', metrics=['mse'])"
   ]
  },
  {
   "cell_type": "code",
   "execution_count": 16,
   "id": "8a2fc51d",
   "metadata": {},
   "outputs": [],
   "source": [
    "#model.compile(loss='mse', optimizer='adam', metrics=['mse', 'mae'])"
   ]
  },
  {
   "cell_type": "code",
   "execution_count": 17,
   "id": "27915e32",
   "metadata": {},
   "outputs": [],
   "source": [
    "#estimator.fit(train_x, train_y,epochs=20)"
   ]
  },
  {
   "cell_type": "code",
   "execution_count": 26,
   "id": "3a8110f2",
   "metadata": {
    "scrolled": false
   },
   "outputs": [
    {
     "name": "stdout",
     "output_type": "stream",
     "text": [
      "Epoch 1/50\n",
      "214/214 [==============================] - 0s 2ms/step - loss: 1490858.8750 - mse: 1490858.8750\n",
      "Epoch 2/50\n",
      "214/214 [==============================] - 0s 2ms/step - loss: 1488524.7500 - mse: 1488524.7500\n",
      "Epoch 3/50\n",
      "214/214 [==============================] - 0s 2ms/step - loss: 1483377.1250 - mse: 1483377.1250\n",
      "Epoch 4/50\n",
      "214/214 [==============================] - 0s 2ms/step - loss: 1483421.1250 - mse: 1483421.1250\n",
      "Epoch 5/50\n",
      "214/214 [==============================] - 0s 2ms/step - loss: 1480409.3750 - mse: 1480409.3750\n",
      "Epoch 6/50\n",
      "214/214 [==============================] - 0s 2ms/step - loss: 1480936.7500 - mse: 1480936.7500\n",
      "Epoch 7/50\n",
      "214/214 [==============================] - 0s 2ms/step - loss: 1478112.2500 - mse: 1478112.2500\n",
      "Epoch 8/50\n",
      "214/214 [==============================] - 0s 2ms/step - loss: 1475820.5000 - mse: 1475820.5000\n",
      "Epoch 9/50\n",
      "214/214 [==============================] - 0s 2ms/step - loss: 1473600.2500 - mse: 1473600.2500\n",
      "Epoch 10/50\n",
      "214/214 [==============================] - 0s 2ms/step - loss: 1472670.7500 - mse: 1472670.7500\n",
      "Epoch 11/50\n",
      "214/214 [==============================] - 0s 2ms/step - loss: 1470608.8750 - mse: 1470608.8750\n",
      "Epoch 12/50\n",
      "214/214 [==============================] - 0s 2ms/step - loss: 1468719.6250 - mse: 1468719.6250\n",
      "Epoch 13/50\n",
      "214/214 [==============================] - 0s 2ms/step - loss: 1468452.6250 - mse: 1468452.6250\n",
      "Epoch 14/50\n",
      "214/214 [==============================] - 0s 2ms/step - loss: 1469133.5000 - mse: 1469133.5000\n",
      "Epoch 15/50\n",
      "214/214 [==============================] - 0s 2ms/step - loss: 1465485.7500 - mse: 1465485.7500\n",
      "Epoch 16/50\n",
      "214/214 [==============================] - 0s 2ms/step - loss: 1462917.1250 - mse: 1462917.1250\n",
      "Epoch 17/50\n",
      "214/214 [==============================] - 0s 2ms/step - loss: 1460176.8750 - mse: 1460176.8750\n",
      "Epoch 18/50\n",
      "214/214 [==============================] - 0s 2ms/step - loss: 1462028.8750 - mse: 1462028.8750\n",
      "Epoch 19/50\n",
      "214/214 [==============================] - 0s 2ms/step - loss: 1458736.6250 - mse: 1458736.6250\n",
      "Epoch 20/50\n",
      "214/214 [==============================] - 0s 2ms/step - loss: 1457714.5000 - mse: 1457714.5000\n",
      "Epoch 21/50\n",
      "214/214 [==============================] - 0s 2ms/step - loss: 1456877.2500 - mse: 1456877.2500\n",
      "Epoch 22/50\n",
      "214/214 [==============================] - 0s 2ms/step - loss: 1456251.0000 - mse: 1456251.0000\n",
      "Epoch 23/50\n",
      "214/214 [==============================] - 0s 2ms/step - loss: 1455039.7500 - mse: 1455039.7500\n",
      "Epoch 24/50\n",
      "214/214 [==============================] - 0s 2ms/step - loss: 1452386.1250 - mse: 1452386.1250\n",
      "Epoch 25/50\n",
      "214/214 [==============================] - 0s 2ms/step - loss: 1453060.7500 - mse: 1453060.7500\n",
      "Epoch 26/50\n",
      "214/214 [==============================] - 0s 2ms/step - loss: 1452491.8750 - mse: 1452491.8750\n",
      "Epoch 27/50\n",
      "214/214 [==============================] - 0s 2ms/step - loss: 1451178.5000 - mse: 1451178.5000\n",
      "Epoch 28/50\n",
      "214/214 [==============================] - 0s 2ms/step - loss: 1451449.5000 - mse: 1451449.5000\n",
      "Epoch 29/50\n",
      "214/214 [==============================] - 0s 2ms/step - loss: 1448350.1250 - mse: 1448350.1250\n",
      "Epoch 30/50\n",
      "214/214 [==============================] - 0s 2ms/step - loss: 1449006.5000 - mse: 1449006.5000\n",
      "Epoch 31/50\n",
      "214/214 [==============================] - 0s 2ms/step - loss: 1450660.1250 - mse: 1450660.1250\n",
      "Epoch 32/50\n",
      "214/214 [==============================] - 0s 2ms/step - loss: 1446833.6250 - mse: 1446833.6250\n",
      "Epoch 33/50\n",
      "214/214 [==============================] - 0s 2ms/step - loss: 1446896.1250 - mse: 1446896.1250\n",
      "Epoch 34/50\n",
      "214/214 [==============================] - 0s 2ms/step - loss: 1447431.5000 - mse: 1447431.5000\n",
      "Epoch 35/50\n",
      "214/214 [==============================] - 0s 2ms/step - loss: 1447662.3750 - mse: 1447662.3750\n",
      "Epoch 36/50\n",
      "214/214 [==============================] - 0s 2ms/step - loss: 1445285.1250 - mse: 1445285.1250\n",
      "Epoch 37/50\n",
      "214/214 [==============================] - 0s 2ms/step - loss: 1443300.5000 - mse: 1443300.5000\n",
      "Epoch 38/50\n",
      "214/214 [==============================] - 0s 2ms/step - loss: 1444275.8750 - mse: 1444275.8750\n",
      "Epoch 39/50\n",
      "214/214 [==============================] - 0s 2ms/step - loss: 1443542.5000 - mse: 1443542.5000\n",
      "Epoch 40/50\n",
      "214/214 [==============================] - 0s 2ms/step - loss: 1441053.0000 - mse: 1441053.0000\n",
      "Epoch 41/50\n",
      "214/214 [==============================] - 0s 2ms/step - loss: 1445165.3750 - mse: 1445165.3750\n",
      "Epoch 42/50\n",
      "214/214 [==============================] - 0s 2ms/step - loss: 1441714.2500 - mse: 1441714.2500\n",
      "Epoch 43/50\n",
      "214/214 [==============================] - 0s 2ms/step - loss: 1442939.7500 - mse: 1442939.7500\n",
      "Epoch 44/50\n",
      "214/214 [==============================] - 0s 2ms/step - loss: 1442315.3750 - mse: 1442315.3750\n",
      "Epoch 45/50\n",
      "214/214 [==============================] - 0s 2ms/step - loss: 1440190.1250 - mse: 1440190.1250\n",
      "Epoch 46/50\n",
      "214/214 [==============================] - 0s 2ms/step - loss: 1441112.7500 - mse: 1441112.7500\n",
      "Epoch 47/50\n",
      "214/214 [==============================] - 0s 2ms/step - loss: 1443301.0000 - mse: 1443301.0000\n",
      "Epoch 48/50\n",
      "214/214 [==============================] - 0s 2ms/step - loss: 1440202.8750 - mse: 1440202.8750\n",
      "Epoch 49/50\n",
      "214/214 [==============================] - 0s 2ms/step - loss: 1439492.6250 - mse: 1439492.6250\n",
      "Epoch 50/50\n",
      "214/214 [==============================] - 0s 2ms/step - loss: 1441171.7500 - mse: 1441171.7500\n"
     ]
    }
   ],
   "source": [
    "history = model.fit(train_x, train_y, epochs=50)\n"
   ]
  },
  {
   "cell_type": "code",
   "execution_count": null,
   "id": "51ed80ba",
   "metadata": {},
   "outputs": [],
   "source": []
  }
 ],
 "metadata": {
  "kernelspec": {
   "display_name": "Python 3 (ipykernel)",
   "language": "python",
   "name": "python3"
  },
  "language_info": {
   "codemirror_mode": {
    "name": "ipython",
    "version": 3
   },
   "file_extension": ".py",
   "mimetype": "text/x-python",
   "name": "python",
   "nbconvert_exporter": "python",
   "pygments_lexer": "ipython3",
   "version": "3.9.7"
  }
 },
 "nbformat": 4,
 "nbformat_minor": 5
}
