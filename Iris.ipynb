{
 "cells": [
  {
   "cell_type": "code",
   "execution_count": 25,
   "id": "eab0023b",
   "metadata": {},
   "outputs": [],
   "source": [
    "import tensorflow"
   ]
  },
  {
   "cell_type": "code",
   "execution_count": 26,
   "id": "3e5f3cde",
   "metadata": {},
   "outputs": [],
   "source": [
    "from sklearn import preprocessing\n",
    "from keras.models import Sequential\n",
    "from keras.layers import Activation,Dense\n",
    "import pandas as pd"
   ]
  },
  {
   "cell_type": "code",
   "execution_count": 27,
   "id": "8f3ef365",
   "metadata": {},
   "outputs": [
    {
     "data": {
      "text/html": [
       "<div>\n",
       "<style scoped>\n",
       "    .dataframe tbody tr th:only-of-type {\n",
       "        vertical-align: middle;\n",
       "    }\n",
       "\n",
       "    .dataframe tbody tr th {\n",
       "        vertical-align: top;\n",
       "    }\n",
       "\n",
       "    .dataframe thead th {\n",
       "        text-align: right;\n",
       "    }\n",
       "</style>\n",
       "<table border=\"1\" class=\"dataframe\">\n",
       "  <thead>\n",
       "    <tr style=\"text-align: right;\">\n",
       "      <th></th>\n",
       "      <th>sepal.length</th>\n",
       "      <th>sepal.width</th>\n",
       "      <th>petal.length</th>\n",
       "      <th>petal.width</th>\n",
       "      <th>variety</th>\n",
       "    </tr>\n",
       "  </thead>\n",
       "  <tbody>\n",
       "    <tr>\n",
       "      <th>0</th>\n",
       "      <td>5.1</td>\n",
       "      <td>3.5</td>\n",
       "      <td>1.4</td>\n",
       "      <td>0.2</td>\n",
       "      <td>Setosa</td>\n",
       "    </tr>\n",
       "    <tr>\n",
       "      <th>1</th>\n",
       "      <td>4.9</td>\n",
       "      <td>3.0</td>\n",
       "      <td>1.4</td>\n",
       "      <td>0.2</td>\n",
       "      <td>Setosa</td>\n",
       "    </tr>\n",
       "    <tr>\n",
       "      <th>2</th>\n",
       "      <td>4.7</td>\n",
       "      <td>3.2</td>\n",
       "      <td>1.3</td>\n",
       "      <td>0.2</td>\n",
       "      <td>Setosa</td>\n",
       "    </tr>\n",
       "    <tr>\n",
       "      <th>3</th>\n",
       "      <td>4.6</td>\n",
       "      <td>3.1</td>\n",
       "      <td>1.5</td>\n",
       "      <td>0.2</td>\n",
       "      <td>Setosa</td>\n",
       "    </tr>\n",
       "    <tr>\n",
       "      <th>4</th>\n",
       "      <td>5.0</td>\n",
       "      <td>3.6</td>\n",
       "      <td>1.4</td>\n",
       "      <td>0.2</td>\n",
       "      <td>Setosa</td>\n",
       "    </tr>\n",
       "  </tbody>\n",
       "</table>\n",
       "</div>"
      ],
      "text/plain": [
       "   sepal.length  sepal.width  petal.length  petal.width variety\n",
       "0           5.1          3.5           1.4          0.2  Setosa\n",
       "1           4.9          3.0           1.4          0.2  Setosa\n",
       "2           4.7          3.2           1.3          0.2  Setosa\n",
       "3           4.6          3.1           1.5          0.2  Setosa\n",
       "4           5.0          3.6           1.4          0.2  Setosa"
      ]
     },
     "execution_count": 27,
     "metadata": {},
     "output_type": "execute_result"
    }
   ],
   "source": [
    "data=pd.read_csv(r\"C:\\Users\\Admin\\Downloads\\iris.csv\")\n",
    "data.head()"
   ]
  },
  {
   "cell_type": "code",
   "execution_count": 28,
   "id": "1002cf48",
   "metadata": {},
   "outputs": [],
   "source": [
    "x=data.iloc[0:,0:4]\n",
    "y=data.iloc[0:,4]"
   ]
  },
  {
   "cell_type": "code",
   "execution_count": 29,
   "id": "eb78dd3a",
   "metadata": {},
   "outputs": [
    {
     "data": {
      "text/plain": [
       "array([0, 0, 0, 0, 0, 0, 0, 0, 0, 0, 0, 0, 0, 0, 0, 0, 0, 0, 0, 0, 0, 0,\n",
       "       0, 0, 0, 0, 0, 0, 0, 0, 0, 0, 0, 0, 0, 0, 0, 0, 0, 0, 0, 0, 0, 0,\n",
       "       0, 0, 0, 0, 0, 0, 1, 1, 1, 1, 1, 1, 1, 1, 1, 1, 1, 1, 1, 1, 1, 1,\n",
       "       1, 1, 1, 1, 1, 1, 1, 1, 1, 1, 1, 1, 1, 1, 1, 1, 1, 1, 1, 1, 1, 1,\n",
       "       1, 1, 1, 1, 1, 1, 1, 1, 1, 1, 1, 1, 2, 2, 2, 2, 2, 2, 2, 2, 2, 2,\n",
       "       2, 2, 2, 2, 2, 2, 2, 2, 2, 2, 2, 2, 2, 2, 2, 2, 2, 2, 2, 2, 2, 2,\n",
       "       2, 2, 2, 2, 2, 2, 2, 2, 2, 2, 2, 2, 2, 2, 2, 2, 2, 2])"
      ]
     },
     "execution_count": 29,
     "metadata": {},
     "output_type": "execute_result"
    }
   ],
   "source": [
    "le=preprocessing.LabelEncoder()\n",
    "y=le.fit_transform(y)\n",
    "y"
   ]
  },
  {
   "cell_type": "code",
   "execution_count": 30,
   "id": "6a35222c",
   "metadata": {},
   "outputs": [
    {
     "data": {
      "text/html": [
       "<div>\n",
       "<style scoped>\n",
       "    .dataframe tbody tr th:only-of-type {\n",
       "        vertical-align: middle;\n",
       "    }\n",
       "\n",
       "    .dataframe tbody tr th {\n",
       "        vertical-align: top;\n",
       "    }\n",
       "\n",
       "    .dataframe thead th {\n",
       "        text-align: right;\n",
       "    }\n",
       "</style>\n",
       "<table border=\"1\" class=\"dataframe\">\n",
       "  <thead>\n",
       "    <tr style=\"text-align: right;\">\n",
       "      <th></th>\n",
       "      <th>sepal.length</th>\n",
       "      <th>sepal.width</th>\n",
       "      <th>petal.length</th>\n",
       "      <th>petal.width</th>\n",
       "    </tr>\n",
       "  </thead>\n",
       "  <tbody>\n",
       "    <tr>\n",
       "      <th>0</th>\n",
       "      <td>5.1</td>\n",
       "      <td>3.5</td>\n",
       "      <td>1.4</td>\n",
       "      <td>0.2</td>\n",
       "    </tr>\n",
       "    <tr>\n",
       "      <th>1</th>\n",
       "      <td>4.9</td>\n",
       "      <td>3.0</td>\n",
       "      <td>1.4</td>\n",
       "      <td>0.2</td>\n",
       "    </tr>\n",
       "    <tr>\n",
       "      <th>2</th>\n",
       "      <td>4.7</td>\n",
       "      <td>3.2</td>\n",
       "      <td>1.3</td>\n",
       "      <td>0.2</td>\n",
       "    </tr>\n",
       "    <tr>\n",
       "      <th>3</th>\n",
       "      <td>4.6</td>\n",
       "      <td>3.1</td>\n",
       "      <td>1.5</td>\n",
       "      <td>0.2</td>\n",
       "    </tr>\n",
       "    <tr>\n",
       "      <th>4</th>\n",
       "      <td>5.0</td>\n",
       "      <td>3.6</td>\n",
       "      <td>1.4</td>\n",
       "      <td>0.2</td>\n",
       "    </tr>\n",
       "    <tr>\n",
       "      <th>...</th>\n",
       "      <td>...</td>\n",
       "      <td>...</td>\n",
       "      <td>...</td>\n",
       "      <td>...</td>\n",
       "    </tr>\n",
       "    <tr>\n",
       "      <th>145</th>\n",
       "      <td>6.7</td>\n",
       "      <td>3.0</td>\n",
       "      <td>5.2</td>\n",
       "      <td>2.3</td>\n",
       "    </tr>\n",
       "    <tr>\n",
       "      <th>146</th>\n",
       "      <td>6.3</td>\n",
       "      <td>2.5</td>\n",
       "      <td>5.0</td>\n",
       "      <td>1.9</td>\n",
       "    </tr>\n",
       "    <tr>\n",
       "      <th>147</th>\n",
       "      <td>6.5</td>\n",
       "      <td>3.0</td>\n",
       "      <td>5.2</td>\n",
       "      <td>2.0</td>\n",
       "    </tr>\n",
       "    <tr>\n",
       "      <th>148</th>\n",
       "      <td>6.2</td>\n",
       "      <td>3.4</td>\n",
       "      <td>5.4</td>\n",
       "      <td>2.3</td>\n",
       "    </tr>\n",
       "    <tr>\n",
       "      <th>149</th>\n",
       "      <td>5.9</td>\n",
       "      <td>3.0</td>\n",
       "      <td>5.1</td>\n",
       "      <td>1.8</td>\n",
       "    </tr>\n",
       "  </tbody>\n",
       "</table>\n",
       "<p>150 rows × 4 columns</p>\n",
       "</div>"
      ],
      "text/plain": [
       "     sepal.length  sepal.width  petal.length  petal.width\n",
       "0             5.1          3.5           1.4          0.2\n",
       "1             4.9          3.0           1.4          0.2\n",
       "2             4.7          3.2           1.3          0.2\n",
       "3             4.6          3.1           1.5          0.2\n",
       "4             5.0          3.6           1.4          0.2\n",
       "..            ...          ...           ...          ...\n",
       "145           6.7          3.0           5.2          2.3\n",
       "146           6.3          2.5           5.0          1.9\n",
       "147           6.5          3.0           5.2          2.0\n",
       "148           6.2          3.4           5.4          2.3\n",
       "149           5.9          3.0           5.1          1.8\n",
       "\n",
       "[150 rows x 4 columns]"
      ]
     },
     "execution_count": 30,
     "metadata": {},
     "output_type": "execute_result"
    }
   ],
   "source": [
    "x"
   ]
  },
  {
   "cell_type": "code",
   "execution_count": 31,
   "id": "ef94e654",
   "metadata": {},
   "outputs": [
    {
     "data": {
      "text/plain": [
       "array([0, 0, 0, 0, 0, 0, 0, 0, 0, 0, 0, 0, 0, 0, 0, 0, 0, 0, 0, 0, 0, 0,\n",
       "       0, 0, 0, 0, 0, 0, 0, 0, 0, 0, 0, 0, 0, 0, 0, 0, 0, 0, 0, 0, 0, 0,\n",
       "       0, 0, 0, 0, 0, 0, 1, 1, 1, 1, 1, 1, 1, 1, 1, 1, 1, 1, 1, 1, 1, 1,\n",
       "       1, 1, 1, 1, 1, 1, 1, 1, 1, 1, 1, 1, 1, 1, 1, 1, 1, 1, 1, 1, 1, 1,\n",
       "       1, 1, 1, 1, 1, 1, 1, 1, 1, 1, 1, 1, 2, 2, 2, 2, 2, 2, 2, 2, 2, 2,\n",
       "       2, 2, 2, 2, 2, 2, 2, 2, 2, 2, 2, 2, 2, 2, 2, 2, 2, 2, 2, 2, 2, 2,\n",
       "       2, 2, 2, 2, 2, 2, 2, 2, 2, 2, 2, 2, 2, 2, 2, 2, 2, 2])"
      ]
     },
     "execution_count": 31,
     "metadata": {},
     "output_type": "execute_result"
    }
   ],
   "source": [
    "y"
   ]
  },
  {
   "cell_type": "code",
   "execution_count": 34,
   "id": "d5d759b2",
   "metadata": {},
   "outputs": [],
   "source": [
    "model=Sequential()"
   ]
  },
  {
   "cell_type": "code",
   "execution_count": 38,
   "id": "23c57188",
   "metadata": {},
   "outputs": [],
   "source": [
    "model.add(Dense(8,input_dim=4)) \n",
    "model.add(Activation('relu'))\n",
    "model.add(Dense(32))\n",
    "model.add(Activation('relu'))\n",
    "model.add(Dense(3))\n",
    "model.add(Activation('relu'))"
   ]
  },
  {
   "cell_type": "code",
   "execution_count": 39,
   "id": "64423571",
   "metadata": {},
   "outputs": [],
   "source": [
    "model.compile(loss='binary_crossentropy', optimizer='adam', metrics=['accuracy'])"
   ]
  },
  {
   "cell_type": "code",
   "execution_count": 40,
   "id": "7fbb015a",
   "metadata": {},
   "outputs": [
    {
     "name": "stdout",
     "output_type": "stream",
     "text": [
      "Epoch 1/50\n",
      "5/5 [==============================] - 1s 6ms/step - loss: 15.4249 - accuracy: 0.3333\n",
      "Epoch 2/50\n",
      "5/5 [==============================] - 0s 2ms/step - loss: 15.4249 - accuracy: 0.3333\n",
      "Epoch 3/50\n",
      "5/5 [==============================] - 0s 4ms/step - loss: 15.4249 - accuracy: 0.3333\n",
      "Epoch 4/50\n",
      "5/5 [==============================] - 0s 5ms/step - loss: 15.4249 - accuracy: 0.3333\n",
      "Epoch 5/50\n",
      "5/5 [==============================] - 0s 5ms/step - loss: 15.4249 - accuracy: 0.3333\n",
      "Epoch 6/50\n",
      "5/5 [==============================] - 0s 4ms/step - loss: 15.4249 - accuracy: 0.3333\n",
      "Epoch 7/50\n",
      "5/5 [==============================] - 0s 6ms/step - loss: 15.4249 - accuracy: 0.3333\n",
      "Epoch 8/50\n",
      "5/5 [==============================] - 0s 5ms/step - loss: 15.4249 - accuracy: 0.3333\n",
      "Epoch 9/50\n",
      "5/5 [==============================] - 0s 6ms/step - loss: 15.4249 - accuracy: 0.3333\n",
      "Epoch 10/50\n",
      "5/5 [==============================] - 0s 5ms/step - loss: 15.4249 - accuracy: 0.3333\n",
      "Epoch 11/50\n",
      "5/5 [==============================] - 0s 5ms/step - loss: 15.4249 - accuracy: 0.3333\n",
      "Epoch 12/50\n",
      "5/5 [==============================] - 0s 6ms/step - loss: 15.4249 - accuracy: 0.3333\n",
      "Epoch 13/50\n",
      "5/5 [==============================] - 0s 4ms/step - loss: 15.4249 - accuracy: 0.3333\n",
      "Epoch 14/50\n",
      "5/5 [==============================] - 0s 6ms/step - loss: 15.4249 - accuracy: 0.3333\n",
      "Epoch 15/50\n",
      "5/5 [==============================] - 0s 5ms/step - loss: 15.4249 - accuracy: 0.3333\n",
      "Epoch 16/50\n",
      "5/5 [==============================] - 0s 4ms/step - loss: 15.4249 - accuracy: 0.3333\n",
      "Epoch 17/50\n",
      "5/5 [==============================] - 0s 5ms/step - loss: 15.4249 - accuracy: 0.3333\n",
      "Epoch 18/50\n",
      "5/5 [==============================] - 0s 3ms/step - loss: 15.4249 - accuracy: 0.3333\n",
      "Epoch 19/50\n",
      "5/5 [==============================] - 0s 4ms/step - loss: 15.4249 - accuracy: 0.3333\n",
      "Epoch 20/50\n",
      "5/5 [==============================] - 0s 5ms/step - loss: 15.4249 - accuracy: 0.3333\n",
      "Epoch 21/50\n",
      "5/5 [==============================] - 0s 5ms/step - loss: 15.4249 - accuracy: 0.3333\n",
      "Epoch 22/50\n",
      "5/5 [==============================] - 0s 4ms/step - loss: 15.4249 - accuracy: 0.3333\n",
      "Epoch 23/50\n",
      "5/5 [==============================] - 0s 5ms/step - loss: 15.4249 - accuracy: 0.3333\n",
      "Epoch 24/50\n",
      "5/5 [==============================] - 0s 6ms/step - loss: 15.4249 - accuracy: 0.3333\n",
      "Epoch 25/50\n",
      "5/5 [==============================] - 0s 4ms/step - loss: 15.4249 - accuracy: 0.3333\n",
      "Epoch 26/50\n",
      "5/5 [==============================] - 0s 4ms/step - loss: 15.4249 - accuracy: 0.3333\n",
      "Epoch 27/50\n",
      "5/5 [==============================] - 0s 5ms/step - loss: 15.4249 - accuracy: 0.3333\n",
      "Epoch 28/50\n",
      "5/5 [==============================] - 0s 5ms/step - loss: 15.4249 - accuracy: 0.3333\n",
      "Epoch 29/50\n",
      "5/5 [==============================] - 0s 5ms/step - loss: 15.4249 - accuracy: 0.3333\n",
      "Epoch 30/50\n",
      "5/5 [==============================] - 0s 6ms/step - loss: 15.4249 - accuracy: 0.3333\n",
      "Epoch 31/50\n",
      "5/5 [==============================] - 0s 6ms/step - loss: 15.4249 - accuracy: 0.3333\n",
      "Epoch 32/50\n",
      "5/5 [==============================] - 0s 5ms/step - loss: 15.4249 - accuracy: 0.3333\n",
      "Epoch 33/50\n",
      "5/5 [==============================] - 0s 5ms/step - loss: 15.4249 - accuracy: 0.3333\n",
      "Epoch 34/50\n",
      "5/5 [==============================] - 0s 6ms/step - loss: 15.4249 - accuracy: 0.3333\n",
      "Epoch 35/50\n",
      "5/5 [==============================] - 0s 4ms/step - loss: 15.4249 - accuracy: 0.3333\n",
      "Epoch 36/50\n",
      "5/5 [==============================] - 0s 6ms/step - loss: 15.4249 - accuracy: 0.3333\n",
      "Epoch 37/50\n",
      "5/5 [==============================] - 0s 5ms/step - loss: 15.4249 - accuracy: 0.3333\n",
      "Epoch 38/50\n",
      "5/5 [==============================] - 0s 4ms/step - loss: 15.4249 - accuracy: 0.3333\n",
      "Epoch 39/50\n",
      "5/5 [==============================] - 0s 6ms/step - loss: 15.4249 - accuracy: 0.3333\n",
      "Epoch 40/50\n",
      "5/5 [==============================] - 0s 6ms/step - loss: 15.4249 - accuracy: 0.3333\n",
      "Epoch 41/50\n",
      "5/5 [==============================] - 0s 6ms/step - loss: 15.4249 - accuracy: 0.3333\n",
      "Epoch 42/50\n",
      "5/5 [==============================] - 0s 6ms/step - loss: 15.4249 - accuracy: 0.3333\n",
      "Epoch 43/50\n",
      "5/5 [==============================] - 0s 4ms/step - loss: 15.4249 - accuracy: 0.3333\n",
      "Epoch 44/50\n",
      "5/5 [==============================] - 0s 5ms/step - loss: 15.4249 - accuracy: 0.3333\n",
      "Epoch 45/50\n",
      "5/5 [==============================] - 0s 5ms/step - loss: 15.4249 - accuracy: 0.3333\n",
      "Epoch 46/50\n",
      "5/5 [==============================] - 0s 5ms/step - loss: 15.4249 - accuracy: 0.3333\n",
      "Epoch 47/50\n",
      "5/5 [==============================] - 0s 4ms/step - loss: 15.4249 - accuracy: 0.3333\n",
      "Epoch 48/50\n",
      "5/5 [==============================] - 0s 6ms/step - loss: 15.4249 - accuracy: 0.3333\n",
      "Epoch 49/50\n",
      "5/5 [==============================] - 0s 3ms/step - loss: 15.4249 - accuracy: 0.3333\n",
      "Epoch 50/50\n",
      "5/5 [==============================] - 0s 4ms/step - loss: 15.4249 - accuracy: 0.3333\n"
     ]
    },
    {
     "data": {
      "text/plain": [
       "<keras.callbacks.History at 0x263e6817ee0>"
      ]
     },
     "execution_count": 40,
     "metadata": {},
     "output_type": "execute_result"
    }
   ],
   "source": [
    "model.fit(x,y,epochs=50)"
   ]
  }
 ],
 "metadata": {
  "kernelspec": {
   "display_name": "Python 3 (ipykernel)",
   "language": "python",
   "name": "python3"
  },
  "language_info": {
   "codemirror_mode": {
    "name": "ipython",
    "version": 3
   },
   "file_extension": ".py",
   "mimetype": "text/x-python",
   "name": "python",
   "nbconvert_exporter": "python",
   "pygments_lexer": "ipython3",
   "version": "3.9.7"
  }
 },
 "nbformat": 4,
 "nbformat_minor": 5
}
